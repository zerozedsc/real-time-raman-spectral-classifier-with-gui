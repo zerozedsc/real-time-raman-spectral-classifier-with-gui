{
 "cells": [
  {
   "cell_type": "code",
   "execution_count": null,
   "id": "a3b11c63",
   "metadata": {},
   "outputs": [
    {
     "ename": "ModuleNotFoundError",
     "evalue": "No module named 'functions'",
     "output_type": "error",
     "traceback": [
      "\u001b[31m---------------------------------------------------------------------------\u001b[39m",
      "\u001b[31mModuleNotFoundError\u001b[39m                       Traceback (most recent call last)",
      "\u001b[36mCell\u001b[39m\u001b[36m \u001b[39m\u001b[32mIn[1]\u001b[39m\u001b[32m, line 1\u001b[39m\n\u001b[32m----> \u001b[39m\u001b[32m1\u001b[39m \u001b[38;5;28;01mfrom\u001b[39;00m\u001b[38;5;250m \u001b[39m\u001b[34;01mfunctions\u001b[39;00m\u001b[34;01m.\u001b[39;00m\u001b[34;01m_utils_\u001b[39;00m\u001b[38;5;250m \u001b[39m\u001b[38;5;28;01mimport\u001b[39;00m *\n\u001b[32m      2\u001b[39m \u001b[38;5;28;01mimport\u001b[39;00m\u001b[38;5;250m \u001b[39m\u001b[34;01mos\u001b[39;00m\n\u001b[32m      3\u001b[39m \u001b[38;5;28;01mimport\u001b[39;00m\u001b[38;5;250m \u001b[39m\u001b[34;01msys\u001b[39;00m\n",
      "\u001b[31mModuleNotFoundError\u001b[39m: No module named 'functions'"
     ]
    }
   ],
   "source": [
    "import os\n",
    "import sys\n",
    "\n",
    "# Go up one directory level to reach root\n",
    "root_dir = os.path.dirname(os.getcwd())\n",
    "os.chdir(root_dir)\n",
    "# Add root to Python path\n",
    "sys.path.insert(0, root_dir)\n",
    "print(f\"Current working directory: {os.getcwd()}\")\n",
    "print(f\"Root directory added to path: {root_dir}\")"
   ]
  },
  {
   "cell_type": "code",
   "execution_count": null,
   "id": "7152d075",
   "metadata": {},
   "outputs": [],
   "source": [
    "from functions._utils_ import *"
   ]
  },
  {
   "cell_type": "code",
   "execution_count": null,
   "id": "a7b519ca",
   "metadata": {},
   "outputs": [],
   "source": [
    "modelname = \"SVC-LINEAR_raman_prostate_model\"\n",
    "pkl_path = os.path.join(CURRENT_DIR,\"models\", modelname + \".pkl\")\n",
    "metadata_path = os.path.join(CURRENT_DIR, \"models\", modelname + \".json\")\n",
    "\n",
    "testmodel = MLModel(pickle_path=pkl_path, \n",
    "                    meta_path=metadata_path)"
   ]
  }
 ],
 "metadata": {
  "kernelspec": {
   "display_name": "Python 3",
   "language": "python",
   "name": "python3"
  },
  "language_info": {
   "codemirror_mode": {
    "name": "ipython",
    "version": 3
   },
   "file_extension": ".py",
   "mimetype": "text/x-python",
   "name": "python",
   "nbconvert_exporter": "python",
   "pygments_lexer": "ipython3",
   "version": "3.11.11"
  }
 },
 "nbformat": 4,
 "nbformat_minor": 5
}
