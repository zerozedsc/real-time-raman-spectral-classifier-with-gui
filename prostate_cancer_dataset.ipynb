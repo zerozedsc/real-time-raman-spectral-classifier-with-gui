{
 "cells": [
  {
   "cell_type": "code",
   "execution_count": null,
   "id": "49e6ee1b",
   "metadata": {},
   "outputs": [],
   "source": [
    "import pandas as pd\n",
    "import numpy as np\n",
    "import matplotlib.pyplot as plt\n",
    "import ramanspy as rp\n",
    "import torch\n",
    "\n",
    "from IPython.display import clear_output\n",
    "\n",
    "from functions.configs import *\n",
    "from functions.utils import translate_confusion_matrix\n",
    "from functions.data_loader import RamanDataLoader\n",
    "from functions.noise_func import RamanNoiseProcessor\n",
    "from functions.pipeline import RamanPipeline, SNV\n",
    "from functions.visualization import RamanVisualizer\n",
    "from functions.ML import RamanML, save_model_to_onnx, load_model_from_onnx\n",
    "\n",
    "device = torch.device('cuda' if torch.cuda.is_available() else 'cpu')\n",
    "device"
   ]
  },
  {
   "cell_type": "code",
   "execution_count": null,
   "id": "ec70520a",
   "metadata": {},
   "outputs": [],
   "source": [
    "# https://datadryad.org/dataset/doi:10.5061/dryad.cjsxksn3p\n",
    "PROSTATE_CANCER_DATASET_PATH = os.path.join(\n",
    "    CURRENT_DIR,\n",
    "    \"test_rawdata\",\n",
    "    \"A1-dataset_prostate_cancer\",\n",
    "    \"Benign_vs_Cancer.pkl\",\n",
    ")\n",
    "\n",
    "load_dataset = RamanDataLoader(PROSTATE_CANCER_DATASET_PATH)\n",
    "rawdata = load_dataset.data"
   ]
  },
  {
   "cell_type": "code",
   "execution_count": null,
   "id": "f9f61f86",
   "metadata": {},
   "outputs": [],
   "source": [
    "# create a subset for a given key value\n",
    "chum_df = rawdata[rawdata['Cohort'] == 'CHUM']\n",
    "uhn_df = rawdata[rawdata['Cohort'] == 'UHN']\n",
    "chuq_df = rawdata[rawdata['Cohort'] == 'CHUQc-UL']\n",
    "print(rawdata.shape, chum_df.shape, uhn_df.shape, chuq_df.shape)"
   ]
  },
  {
   "cell_type": "code",
   "execution_count": null,
   "id": "f329fb03",
   "metadata": {},
   "outputs": [],
   "source": [
    "# hirushu_dir = os.getcwd() + '/test_rawdata/Tamura/引き継ぎ/ヒルシュ'\n",
    "# hirushu_dir\n",
    "\n",
    "# normal_dfs = []\n",
    "# window_size = 50s\n",
    "# for k in range(1, 4):\n",
    "#     csv_path = os.path.join(hirushu_dir, 'データ', 'merged_data_raw', f'Case{k}', 'normal', 'normal.csv')\n",
    "#     loader = RamanDataLoader(csv_path)\n",
    "#     df = loader.data\n",
    "#     processor = RamanNoiseProcessor(df)\n",
    "#     processed_df = processor.baselineAndGaussianNoise(window_size=window_size)\n",
    "#     normal_dfs.append(processed_df)"
   ]
  },
  {
   "cell_type": "code",
   "execution_count": null,
   "id": "b6f6565c",
   "metadata": {},
   "outputs": [],
   "source": [
    "def processDFA1(df: pd.DataFrame) -> Tuple[pd.DataFrame, list]:\n",
    "    \"\"\"\n",
    "    Process the DataFrame to create a new DataFrame with interpolated spectra.\n",
    "    Args:\n",
    "        df (pd.DataFrame): Input DataFrame with columns 'xAxis', 'RawSpectra', 'CoreID', and 'Label'.\n",
    "\n",
    "    Returns:\n",
    "        pd.DataFrame: New DataFrame with interpolated spectra.\n",
    "        list: List of labels corresponding to the spectra.\n",
    "    \"\"\"\n",
    "    all_wavenumbers = np.unique(np.concatenate(df[\"xAxis\"].values))\n",
    "    all_wavenumbers.sort()\n",
    "\n",
    "    data = {}\n",
    "    for idx, (wn, spec, cid) in enumerate(zip(\n",
    "            df[\"xAxis\"],\n",
    "            df[\"RawSpectra\"],\n",
    "            df[\"CoreID\"])):\n",
    "        # Make unique column name if needed\n",
    "        col_name = f\"{cid}_{idx}\"\n",
    "        interp_spec = np.interp(all_wavenumbers, wn, spec)\n",
    "        data[col_name] = interp_spec\n",
    "\n",
    "    # 3. Create DataFrame: index=wavenumber, columns=ids\n",
    "    merged_df = pd.DataFrame(data, index=all_wavenumbers)\n",
    "    merged_df.index.name = \"wavenumber\"\n",
    "\n",
    "    return merged_df\n",
    "\n",
    "\n",
    "region = (600, 1500)  # Raman region of interest\n",
    "labels = [\"benign\", \"cancer\"]\n",
    "# https://ramanspy.readthedocs.io/en/latest/preprocessing.html\n",
    "# https://www.nature.com/articles/s41377-024-01394-5\n",
    "preprocess_steps_test = [\n",
    "    rp.preprocessing.misc.Cropper(region=region),\n",
    "    rp.preprocessing.despike.WhitakerHayes(),\n",
    "    rp.preprocessing.denoise.SavGol(window_length=11, polyorder=3),\n",
    "    # rp.preprocessing.baseline.ASPLS(),\n",
    "    rp.preprocessing.baseline.ModPoly(tol=0.001),\n",
    "    # rp.preprocessing.normalise.Vector(),\n",
    "    SNV()   # Use SNV normalization as in the Readme\n",
    "]\n",
    "\n",
    "\n",
    "chumDF_benign = RamanPipeline().preprocess(\n",
    "    dfs=[processDFA1(chum_df[chum_df['Label'] == 'Benign'])],\n",
    "    label=labels[0],\n",
    "    region=region,\n",
    "    preprocessing_steps=preprocess_steps_test,\n",
    "    visualize_steps=False\n",
    ")"
   ]
  },
  {
   "cell_type": "code",
   "execution_count": null,
   "id": "b1b83a3d",
   "metadata": {},
   "outputs": [],
   "source": [
    "chumDF_cancer = RamanPipeline().preprocess(\n",
    "    dfs=[processDFA1(chum_df[chum_df['Label'] == 'Cancer'])],\n",
    "    label=labels[1],\n",
    "    region=region,\n",
    "    preprocessing_steps=preprocess_steps_test,\n",
    "    visualize_steps=False\n",
    ")"
   ]
  },
  {
   "cell_type": "code",
   "execution_count": null,
   "id": "846f967a",
   "metadata": {},
   "outputs": [],
   "source": [
    "from scipy.signal import find_peaks\n",
    "\n",
    "\n",
    "def find_peaks_in_spectrum(spectrum, height=0.1, distance=10):\n",
    "    \"\"\"\n",
    "    Find peaks in a spectrum using the find_peaks function from scipy.\n",
    "\n",
    "    Parameters:\n",
    "        spectrum (np.ndarray or rp.SpectralContainer): The spectrum data.\n",
    "        height (float): Minimum height of peaks.\n",
    "        distance (int): Minimum distance between peaks.\n",
    "\n",
    "    Returns:\n",
    "        np.ndarray: Indices of the found peaks.\n",
    "    \"\"\"\n",
    "    if hasattr(spectrum, \"spectral_data\"):\n",
    "        y = spectrum.spectral_data\n",
    "    else:\n",
    "        y = np.asarray(spectrum)\n",
    "    if y.ndim == 1:\n",
    "        peaks, _ = find_peaks(y, height=height, distance=distance)\n",
    "        return peaks\n",
    "    else:\n",
    "        # Loop over all spectra (rows)\n",
    "        all_peaks = []\n",
    "        for i, row in enumerate(y):\n",
    "            peaks, _ = find_peaks(row, height=height, distance=distance)\n",
    "            all_peaks.append(peaks)\n",
    "        return all_peaks"
   ]
  },
  {
   "cell_type": "code",
   "execution_count": null,
   "id": "308e2c69",
   "metadata": {},
   "outputs": [],
   "source": [
    "ramanML = RamanML()"
   ]
  },
  {
   "cell_type": "code",
   "execution_count": null,
   "id": "e6dc8ea1",
   "metadata": {},
   "outputs": [],
   "source": [
    "uhnDF_benign = RamanPipeline().preprocess(\n",
    "    dfs=[processDFA1(uhn_df[uhn_df['Label'] == 'Benign'])],\n",
    "    label=labels[0],\n",
    "    region=region,\n",
    "    preprocessing_steps=preprocess_steps_test,\n",
    "    visualize_steps=False\n",
    ")"
   ]
  },
  {
   "cell_type": "code",
   "execution_count": null,
   "id": "391a9e00",
   "metadata": {},
   "outputs": [],
   "source": [
    "uhnDF_cancer = RamanPipeline().preprocess(\n",
    "    dfs=[processDFA1(uhn_df[uhn_df['Label'] == 'Cancer'])],\n",
    "    label=labels[1],\n",
    "    region=region,\n",
    "    preprocessing_steps=preprocess_steps_test,\n",
    "    visualize_steps=False\n",
    ")"
   ]
  },
  {
   "cell_type": "code",
   "execution_count": null,
   "id": "2d161ef2",
   "metadata": {},
   "outputs": [],
   "source": [
    "chuqDF_benign = RamanPipeline().preprocess(\n",
    "    dfs=[processDFA1(chuq_df[chuq_df['Label'] == 'Benign'])],\n",
    "    label=labels[0],\n",
    "    region=region,\n",
    "    preprocessing_steps=preprocess_steps_test,\n",
    "    visualize_steps=False\n",
    ")"
   ]
  },
  {
   "cell_type": "code",
   "execution_count": null,
   "id": "b30db076",
   "metadata": {},
   "outputs": [],
   "source": [
    "chuqDF_cancer = RamanPipeline().preprocess(\n",
    "    dfs=[processDFA1(chuq_df[chuq_df['Label'] == 'Cancer'])],\n",
    "    label=labels[1],\n",
    "    region=region,\n",
    "    preprocessing_steps=preprocess_steps_test,\n",
    "    visualize_steps=False\n",
    ")"
   ]
  },
  {
   "cell_type": "code",
   "execution_count": null,
   "id": "b8ae08f1",
   "metadata": {},
   "outputs": [],
   "source": [
    "mlresult = ramanML.train_svc(normal_data=([chumDF_benign[\"processed\"]], labels[0]),\n",
    "                             disease_data=([chumDF_cancer[\"processed\"]], labels[1]), param_search=False, test_size=0.2,\n",
    "                             SVC_model=ramanML.SVCMODEL(kernel='linear', C=1.0, gamma='scale', class_weight='balanced', probability=True),)"
   ]
  },
  {
   "cell_type": "code",
   "execution_count": null,
   "id": "3b074840",
   "metadata": {},
   "outputs": [],
   "source": [
    "pprint(translate_confusion_matrix(\n",
    "    mlresult[\"confusion_matrix\"], labels), indent=2)\n",
    "pprint(mlresult[\"classification_report\"], indent=2)\n",
    "print(\n",
    "    f\"CV Accuracy: {mlresult['cross_val_score'].mean():.3f} ± {mlresult['cross_val_score'].std():.3f}\")\n",
    "# print(f\"Decision Function Score: {mlresult['decision_function_score'].mean():.3f} ± {mlresult['decision_function_score'].std():.3f}\")"
   ]
  },
  {
   "cell_type": "code",
   "execution_count": null,
   "id": "66c41ad9",
   "metadata": {},
   "outputs": [],
   "source": [
    "cancer_spectra = [chumDF_cancer, uhnDF_cancer, chuqDF_cancer]\n",
    "benign_spectra = [chuqDF_benign]\n",
    "test_spectra = [k[\"processed\"] for k in cancer_spectra + benign_spectra]\n",
    "true_labels = []\n",
    "for k in cancer_spectra + benign_spectra:\n",
    "    true_labels.extend(k[\"labels\"])\n",
    "\n",
    "predict_data = ramanML.predict(\n",
    "    test_spectra=test_spectra,\n",
    "    # model = mlresult[\"model\"]\n",
    ")\n",
    "\n",
    "pprint(predict_data[\"label_percentages\"], indent=2)\n",
    "pprint(predict_data[\"most_common_label\"])"
   ]
  },
  {
   "cell_type": "code",
   "execution_count": null,
   "id": "88049f37",
   "metadata": {},
   "outputs": [],
   "source": [
    "predict_accuracy, plotdata = RamanVisualizer(None).confusion_matrix_heatmap(\n",
    "    y_true=true_labels,          # true labels for test set\n",
    "    y_pred=predict_data[\"y_pred\"],  # predicted labels for test set\n",
    "    # class names, e.g. [\"benign\", \"cancer\"]\n",
    "    class_labels=labels,\n",
    "    title=\"SVC Confusion Matrix\",\n",
    "    normalize=False,\n",
    "    cmap=\"Blues\",\n",
    "    figsize=(8, 6),\n",
    "    fmt=\"s\",\n",
    ")\n",
    "print(\"Predict Accuracy:\")\n",
    "print(\"=====================================\")\n",
    "for i, (label, percentage) in enumerate(predict_accuracy.items()):\n",
    "    print(f\"{label}: {percentage:.2f}%\")"
   ]
  },
  {
   "cell_type": "code",
   "execution_count": null,
   "id": "e3e2759a",
   "metadata": {},
   "outputs": [],
   "source": [
    "# RamanVisualizer(None).pca2d(\n",
    "#     spectral_data=mlresult[\"x_train\"],\n",
    "#     spectral_axis=np.arange(mlresult[\"x_train\"].shape[1]),  # PCA does not use axis, just needs shape\n",
    "#     title=\"PCA of SVC Training Data\",\n",
    "#     sample_names=mlresult[\"y_train\"],\n",
    "#     sample_limit=50  # adjust as needed\n",
    "# )"
   ]
  },
  {
   "cell_type": "code",
   "execution_count": null,
   "id": "ef8330f2",
   "metadata": {},
   "outputs": [],
   "source": [
    "saved_model = save_model_to_onnx(model=mlresult[\"model\"],\n",
    "                                 labels=labels,\n",
    "                                 filename=\"SVC_raman_prostate_model1\",\n",
    "                                 metadata={\"model_type\": \"SVC\",\n",
    "                                           \"model_name\": \"SVC raman prostate linear\",\n",
    "                                           \"model_version\": \"1.0\",\n",
    "                                           \"model_description\": \"SVC model for prostate cancer classification based on Raman spectroscopy data kernel linear.\",\n",
    "                                           \"model_author\": \"MUHAMMAD HELMI\",\n",
    "                                           \"model_date\": \"2025-05-09\", }\n",
    "                                 )"
   ]
  },
  {
   "cell_type": "code",
   "execution_count": null,
   "id": "d63bdd9c",
   "metadata": {},
   "outputs": [],
   "source": [
    "# import shap\n",
    "\n",
    "# # Use only 100 representative samples for background\n",
    "# background_data_small = shap.sample(mlresult[\"x_train\"], 100, random_state=42)\n",
    "\n",
    "# # Run SHAP explanation\n",
    "# shap_result = ramanML.shap_explain(\n",
    "#     background_data=background_data_small,\n",
    "#     test_data=mlresult[\"x_test\"],\n",
    "#     nsamples=100\n",
    "# )"
   ]
  }
 ],
 "metadata": {
  "kernelspec": {
   "display_name": "Python 3",
   "language": "python",
   "name": "python3"
  },
  "language_info": {
   "codemirror_mode": {
    "name": "ipython",
    "version": 3
   },
   "file_extension": ".py",
   "mimetype": "text/x-python",
   "name": "python",
   "nbconvert_exporter": "python",
   "pygments_lexer": "ipython3",
   "version": "3.11.11"
  }
 },
 "nbformat": 4,
 "nbformat_minor": 5
}
